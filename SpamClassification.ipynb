{
 "cells": [
  {
   "cell_type": "markdown",
   "metadata": {},
   "source": [
    "# Get the Data"
   ]
  },
  {
   "cell_type": "code",
   "execution_count": 1,
   "metadata": {},
   "outputs": [],
   "source": [
    "import os\n",
    "\n",
    "DATASETS_DIR = 'datasets'\n",
    "MODELS_DIR = 'models'\n",
    "TAR_DIR = os.path.join(DATASETS_DIR, 'tar')\n",
    "\n",
    "SPAM_URL = 'https://spamassassin.apache.org/old/publiccorpus/20050311_spam_2.tar.bz2'\n",
    "EASY_HAM_URL = 'https://spamassassin.apache.org/old/publiccorpus/20030228_easy_ham_2.tar.bz2'"
   ]
  },
  {
   "cell_type": "code",
   "execution_count": 2,
   "metadata": {},
   "outputs": [],
   "source": [
    "from urllib.request import urlretrieve\n",
    "import tarfile\n",
    "import shutil\n",
    "\n",
    "def download_dataset(url):\n",
    "    \"\"\"download and unzip data from a url into the specified path\"\"\"\n",
    "    \n",
    "    # create directory if it doesn't exist\n",
    "    if not os.path.isdir(TAR_DIR):\n",
    "        os.makedirs(TAR_DIR)\n",
    "    \n",
    "    filename = url.rsplit('/', 1)[-1]\n",
    "    tarpath = os.path.join(TAR_DIR, filename)\n",
    "    \n",
    "    # download the tar file if it doesn't exist\n",
    "    try:\n",
    "        tarfile.open(tarpath)\n",
    "    except:\n",
    "        urlretrieve(url, tarpath)\n",
    "    \n",
    "    with tarfile.open(tarpath) as tar:\n",
    "        dirname = os.path.join(DATASETS_DIR, tar.getnames()[0])\n",
    "        if os.path.isdir(dirname):\n",
    "            shutil.rmtree(dirname)\n",
    "        tar.extractall(path=DATASETS_DIR)\n",
    "        \n",
    "        cmds_path = os.path.join(dirname, 'cmds')\n",
    "        if os.path.isfile(cmds_path):\n",
    "            os.remove(cmds_path)\n",
    "    \n",
    "    return dirname"
   ]
  },
  {
   "cell_type": "code",
   "execution_count": 3,
   "metadata": {},
   "outputs": [],
   "source": [
    "# download the data\n",
    "spam_dir = download_dataset(SPAM_URL)\n",
    "easy_ham_dir = download_dataset(EASY_HAM_URL)"
   ]
  },
  {
   "cell_type": "code",
   "execution_count": 4,
   "metadata": {},
   "outputs": [],
   "source": [
    "import numpy as np\n",
    "import glob\n",
    "\n",
    "def load_dataset(dirpath):\n",
    "    \"\"\"load emails from the specified directory\"\"\"\n",
    "    \n",
    "    files = []\n",
    "    filepaths = glob.glob(dirpath + '/*')\n",
    "    for path in filepaths:\n",
    "        with open(path, 'rb') as f:\n",
    "            byte_content = f.read()\n",
    "            str_content = byte_content.decode('utf-8', errors='ignore')\n",
    "            files.append(str_content)\n",
    "    return files\n",
    "    "
   ]
  },
  {
   "cell_type": "code",
   "execution_count": 5,
   "metadata": {},
   "outputs": [],
   "source": [
    "# load the datasets\n",
    "spam = load_dataset(spam_dir)\n",
    "easy_ham = load_dataset(easy_ham_dir)"
   ]
  },
  {
   "cell_type": "code",
   "execution_count": 6,
   "metadata": {},
   "outputs": [],
   "source": [
    "import sklearn.utils\n",
    "\n",
    "# create the full dataset\n",
    "X = spam + easy_ham \n",
    "y = np.concatenate((np.ones(len(spam)), np.zeros(len(easy_ham))))\n",
    "\n",
    "# shuffle the dataset\n",
    "X, y = sklearn.utils.shuffle(X, y, random_state=2)"
   ]
  },
  {
   "cell_type": "code",
   "execution_count": 7,
   "metadata": {},
   "outputs": [],
   "source": [
    "from sklearn.model_selection import train_test_split\n",
    "\n",
    "# split the data into stratified training and test sets\n",
    "X_train, X_test, y_train, y_test = train_test_split(X, y, test_size=0.2, stratify=y, random_state=2)"
   ]
  },
  {
   "cell_type": "code",
   "execution_count": 8,
   "metadata": {},
   "outputs": [
    {
     "name": "stdout",
     "output_type": "stream",
     "text": [
      "2236 2236\n",
      "560 560\n"
     ]
    }
   ],
   "source": [
    "# check dataset shapes\n",
    "print(len(X_train), len(y_train))\n",
    "print(len(X_test), len(y_test))"
   ]
  },
  {
   "cell_type": "markdown",
   "metadata": {},
   "source": [
    "# Data Preparation Pipeline"
   ]
  },
  {
   "cell_type": "code",
   "execution_count": 9,
   "metadata": {},
   "outputs": [],
   "source": [
    "def remove_header(email):\n",
    "    \"\"\"remove the header from an email\"\"\"\n",
    "    return email[email.index('\\n\\n'):]"
   ]
  },
  {
   "cell_type": "code",
   "execution_count": 10,
   "metadata": {},
   "outputs": [],
   "source": [
    "import re \n",
    "\n",
    "def is_url(s):\n",
    "    url = re.match(\"http[s]?://(?:[a-zA-Z]|[0-9]|[$-_@.&+]|\"\n",
    "                     \"[!*\\(\\), ]|(?:%[0-9a-fA-F][0-9a-fA-F]))+\", s)\n",
    "    return url is not None\n",
    "\n",
    "def convert_url_to_word(words):\n",
    "    \"\"\"convert all urls in the list to the word 'URL'\"\"\"\n",
    "    for i, word in enumerate(words):\n",
    "        if is_url(word):\n",
    "            words[i] = 'URL'\n",
    "    return words"
   ]
  },
  {
   "cell_type": "code",
   "execution_count": 11,
   "metadata": {},
   "outputs": [],
   "source": [
    "def convert_num_to_word(words):\n",
    "    \"\"\"convert all numbers in the list to the word 'NUM'\"\"\"\n",
    "    for i, word in enumerate(words):\n",
    "        if word.isdigit():\n",
    "            words[i] = 'NUM'\n",
    "    return words"
   ]
  },
  {
   "cell_type": "code",
   "execution_count": 12,
   "metadata": {},
   "outputs": [],
   "source": [
    "def remove_punctuation(email):\n",
    "    new_email = \"\"\n",
    "    for c in email:\n",
    "        if c.isalnum() or c.isspace():\n",
    "            new_email += c\n",
    "    return new_email"
   ]
  },
  {
   "cell_type": "code",
   "execution_count": 13,
   "metadata": {},
   "outputs": [],
   "source": [
    "from sklearn.base import BaseEstimator, TransformerMixin\n",
    "\n",
    "class CleanEmails(BaseEstimator, TransformerMixin):\n",
    "    def __init__(self, no_header=True, to_lowercase=True, url_to_word=True, num_to_word=True,\n",
    "                 remove_punc=True):\n",
    "        self.no_header = no_header\n",
    "        self.to_lowercase = to_lowercase\n",
    "        self.url_to_word = url_to_word\n",
    "        self.num_to_word = num_to_word\n",
    "        self.remove_punc = remove_punc\n",
    "    \n",
    "    def fit(self, X, y=None):\n",
    "        return self\n",
    "    \n",
    "    def transform(self, X, y=None):\n",
    "        X_cleaned = []\n",
    "        for email in X:\n",
    "            if self.no_header:\n",
    "                email = remove_header(email)\n",
    "            if self.to_lowercase:\n",
    "                email = email.lower()\n",
    "            \n",
    "            email_words = email.split()\n",
    "            if self.url_to_word:\n",
    "                email_words = convert_url_to_word(email_words)\n",
    "            if self.num_to_word:\n",
    "                email_words = convert_num_to_word(email_words)\n",
    "            email = ' '.join(email_words)\n",
    "            if self.remove_punc:\n",
    "                email = remove_punctuation(email)\n",
    "            X_cleaned.append(email)\n",
    "        return X_cleaned\n",
    "        "
   ]
  },
  {
   "cell_type": "code",
   "execution_count": 14,
   "metadata": {},
   "outputs": [],
   "source": [
    "from sklearn.pipeline import Pipeline\n",
    "from sklearn.feature_extraction.text import CountVectorizer\n",
    "\n",
    "# full preparation pipeline\n",
    "prepare_pipeline = Pipeline([\n",
    "    ('clean_email', CleanEmails()),\n",
    "    ('bag_of_words', CountVectorizer())\n",
    "])"
   ]
  },
  {
   "cell_type": "code",
   "execution_count": 15,
   "metadata": {},
   "outputs": [],
   "source": [
    "# prepare the training data\n",
    "X_train_prepared = prepare_pipeline.fit_transform(X_train)"
   ]
  },
  {
   "cell_type": "code",
   "execution_count": 16,
   "metadata": {},
   "outputs": [
    {
     "name": "stdout",
     "output_type": "stream",
     "text": [
      "(2236, 69207)\n"
     ]
    }
   ],
   "source": [
    "print(X_train_prepared.shape)"
   ]
  },
  {
   "cell_type": "markdown",
   "metadata": {},
   "source": [
    "# Train and Evaluate some Classifiers"
   ]
  },
  {
   "cell_type": "markdown",
   "metadata": {},
   "source": [
    "## Classifiers to try\n",
    "- MLPClassifier\n",
    "- DecisionTreeClassifier\n",
    "- RandomForestClassifier\n",
    "- AdaBoostClassifier\n",
    "- KNNClassifier\n",
    "- SVC"
   ]
  },
  {
   "cell_type": "markdown",
   "metadata": {},
   "source": [
    "## How to evaluate each classifier\n",
    "- Using 3-fold cross validation:\n",
    " - Evaluate accuracy\n",
    " - Calculate the confusion matrix, precision, recall and f1-score\n",
    "- Select some promising models\n",
    " - For models that implement decision_function() or predict_probas(),\n",
    "  - Plot the precision vs recall curve\n",
    "  - Plot ROC curve and calculate the ROC AUC\n",
    "- Pick the classifier with best precision and recall"
   ]
  },
  {
   "cell_type": "code",
   "execution_count": 17,
   "metadata": {},
   "outputs": [],
   "source": [
    "from sklearn.metrics import confusion_matrix\n",
    "from sklearn.metrics import precision_score, recall_score, f1_score\n",
    "\n",
    "def eval_confusion(y_pred, y_true=y_train):\n",
    "    conf_matrix = confusion_matrix(y_true, y_pred)\n",
    "    precision = precision_score(y_true, y_pred)\n",
    "    recall = recall_score(y_true, y_pred)\n",
    "    f1 = f1_score(y_true, y_pred)\n",
    "    return {'matrix': conf_matrix, 'precision': precision, 'recall': recall, 'f1': f1}"
   ]
  },
  {
   "cell_type": "code",
   "execution_count": 18,
   "metadata": {},
   "outputs": [],
   "source": [
    "import matplotlib as mpl\n",
    "import matplotlib.pyplot as plt"
   ]
  },
  {
   "cell_type": "code",
   "execution_count": 19,
   "metadata": {},
   "outputs": [],
   "source": [
    "import warnings\n",
    "# stop scikit-learn's deprecation warnings\n",
    "warnings.filterwarnings(\"ignore\", category=FutureWarning)"
   ]
  },
  {
   "cell_type": "code",
   "execution_count": 20,
   "metadata": {},
   "outputs": [],
   "source": [
    "\n",
    "from sklearn.neural_network import MLPClassifier\n",
    "from sklearn.tree import DecisionTreeClassifier\n",
    "from sklearn.ensemble import RandomForestClassifier\n",
    "from sklearn.ensemble import AdaBoostClassifier\n",
    "from sklearn.neighbors import KNeighborsClassifier\n",
    "from sklearn.svm import SVC\n",
    "\n",
    "# Classification Models\n",
    "mlp_clf = MLPClassifier(hidden_layer_sizes=(16,))\n",
    "tree_clf = DecisionTreeClassifier()\n",
    "forest_clf = RandomForestClassifier()\n",
    "adaboost_clf = AdaBoostClassifier()\n",
    "knn_clf = KNeighborsClassifier()\n",
    "svm_clf = SVC()\n",
    "\n",
    "classifiers = {\n",
    "    'Decision Tree': tree_clf,\n",
    "    'Random Forest': forest_clf,\n",
    "    'AdaBoost': adaboost_clf,\n",
    "    'KNN': knn_clf,\n",
    "    'SVM': svm_clf,\n",
    "    'MLP': mlp_clf\n",
    "}"
   ]
  },
  {
   "cell_type": "code",
   "execution_count": 21,
   "metadata": {},
   "outputs": [],
   "source": [
    "from sklearn.model_selection import cross_val_predict\n",
    "\n",
    "# make predictions using each model\n",
    "y_preds = {}\n",
    "for clf_name, clf in classifiers.items():\n",
    "    y_preds[clf_name] = cross_val_predict(clf, X_train_prepared, y_train, cv=3)"
   ]
  },
  {
   "cell_type": "code",
   "execution_count": 22,
   "metadata": {},
   "outputs": [
    {
     "name": "stdout",
     "output_type": "stream",
     "text": [
      "Decision Tree:\n",
      "0.9414132379248659\n",
      "\n",
      "Random Forest:\n",
      "0.9789803220035778\n",
      "\n",
      "AdaBoost:\n",
      "0.9704830053667263\n",
      "\n",
      "KNN:\n",
      "0.924865831842576\n",
      "\n",
      "SVM:\n",
      "0.9141323792486583\n",
      "\n",
      "MLP:\n",
      "0.9852415026833632\n",
      "\n"
     ]
    }
   ],
   "source": [
    "from sklearn.metrics import accuracy_score\n",
    "\n",
    "# evaluate each classifier's accuracy\n",
    "for clf_name, y_pred in y_preds.items():\n",
    "    print(f\"{clf_name}:\")\n",
    "    print(accuracy_score(y_train, y_pred))\n",
    "    print()"
   ]
  },
  {
   "cell_type": "code",
   "execution_count": 23,
   "metadata": {},
   "outputs": [
    {
     "name": "stdout",
     "output_type": "stream",
     "text": [
      "Decision Tree:\n",
      "[[1046   74]\n",
      " [  57 1059]]\n",
      "precision: 0.9346866725507502\n",
      "recall: 0.9489247311827957\n",
      "f1-score: 0.9417518897287683\n",
      "\n",
      "Random Forest:\n",
      "[[1103   17]\n",
      " [  30 1086]]\n",
      "precision: 0.9845874886672711\n",
      "recall: 0.9731182795698925\n",
      "f1-score: 0.978819287967553\n",
      "\n",
      "AdaBoost:\n",
      "[[1087   33]\n",
      " [  33 1083]]\n",
      "precision: 0.9704301075268817\n",
      "recall: 0.9704301075268817\n",
      "f1-score: 0.9704301075268817\n",
      "\n",
      "KNN:\n",
      "[[1064   56]\n",
      " [ 112 1004]]\n",
      "precision: 0.9471698113207547\n",
      "recall: 0.899641577060932\n",
      "f1-score: 0.922794117647059\n",
      "\n",
      "SVM:\n",
      "[[1096   24]\n",
      " [ 168  948]]\n",
      "precision: 0.9753086419753086\n",
      "recall: 0.8494623655913979\n",
      "f1-score: 0.9080459770114943\n",
      "\n",
      "MLP:\n",
      "[[1114    6]\n",
      " [  27 1089]]\n",
      "precision: 0.9945205479452055\n",
      "recall: 0.9758064516129032\n",
      "f1-score: 0.9850746268656717\n",
      "\n"
     ]
    }
   ],
   "source": [
    "# evaluate the confusion matrix, precision, recall and f1 score for each classifier\n",
    "for clf_name, y_pred in y_preds.items():\n",
    "    conf = eval_confusion(y_pred)\n",
    "    print(f\"{clf_name}:\")\n",
    "    print(conf['matrix'])\n",
    "    print(f\"precision: {conf['precision']}\")\n",
    "    print(f\"recall: {conf['recall']}\")\n",
    "    print(f\"f1-score: {conf['f1']}\")\n",
    "    print()"
   ]
  },
  {
   "cell_type": "markdown",
   "metadata": {},
   "source": [
    "- SVM doesn't seem to be promising\n",
    "- Best model so far is the MLP classifier\n",
    "- Second best model is the Random Forest classifier"
   ]
  },
  {
   "cell_type": "code",
   "execution_count": 24,
   "metadata": {},
   "outputs": [],
   "source": [
    "from sklearn.model_selection import cross_val_predict\n",
    "\n",
    "# calculate scores for each model\n",
    "y_scores = {}\n",
    "clf_thresholds = {}\n",
    "\n",
    "for clf_name, clf in classifiers.items():\n",
    "    method = 'predict_proba'\n",
    "    if not hasattr(clf, 'predict_proba') and hasattr(clf, 'decision_function'):\n",
    "        method = 'decision_function'\n",
    "    y_scores[clf_name] = cross_val_predict(clf, X_train_prepared, y_train, cv=3,\n",
    "                                           method=method)\n",
    "    if method == 'predict_proba':\n",
    "        y_scores[clf_name] = y_scores[clf_name][:,1]\n",
    "        clf_thresholds[clf_name] = 0.5\n",
    "    else:\n",
    "        clf_thresholds[clf_name] = 0"
   ]
  },
  {
   "cell_type": "code",
   "execution_count": 25,
   "metadata": {},
   "outputs": [],
   "source": [
    "from sklearn.metrics import precision_recall_curve\n",
    "\n",
    "def plot_precision_vs_recall(y_scores, threshold=0, label=None, style='b-'):\n",
    "    \"\"\"plot precision vs recall for different thresholds, highlight the specified threshold\"\"\"\n",
    "    \n",
    "    # calculate scores and precisions and recalls at different thresholds\n",
    "    precisions, recalls, thresholds = precision_recall_curve(y_train, y_scores)\n",
    "    \n",
    "    # plot the precision and recall curves\n",
    "    plt.plot(recalls, precisions, style, label=label)\n",
    "    \n",
    "    # highlight the threshold\n",
    "    y_pred = y_scores >= threshold\n",
    "    hl_precision = precision_score(y_train, y_pred)\n",
    "    hl_recall = recall_score(y_train, y_pred)\n",
    "    \n",
    "    plt.plot([0, hl_recall], [hl_precision, hl_precision], 'r:')\n",
    "    plt.plot([hl_recall, hl_recall], [0, hl_precision], 'r:')\n",
    "    plt.plot([hl_recall], [hl_precision], 'ro')"
   ]
  },
  {
   "cell_type": "code",
   "execution_count": 39,
   "metadata": {},
   "outputs": [
    {
     "data": {
      "image/png": "[encoded data removed]",
      "text/plain": [
       "<Figure size 800x500 with 1 Axes>"
      ]
     },
     "metadata": {},
     "output_type": "display_data"
    }
   ],
   "source": [
    "# plot recall vs precision for each model\n",
    "mpl.style.use('default')\n",
    "plt.figure(figsize=(8, 5))\n",
    "\n",
    "styles = {\n",
    "    'Decision Tree': 'g--',\n",
    "    'Random Forest': 'b--',\n",
    "    'AdaBoost': 'k--',\n",
    "    'KNN': 'y--',\n",
    "    'SVM': 'c--',\n",
    "    'MLP': 'm--'\n",
    "}\n",
    "\n",
    "for clf_name, y_score in y_scores.items():\n",
    "    plot_precision_vs_recall(y_score, threshold=clf_thresholds[clf_name], label=clf_name,\n",
    "                             style=styles[clf_name])\n",
    "    \n",
    "plt.grid(True)\n",
    "plt.xlabel('Recall')\n",
    "plt.ylabel('Precision')\n",
    "plt.legend(loc='lower right')\n",
    "plt.show()"
   ]
  },
  {
   "cell_type": "code",
   "execution_count": 28,
   "metadata": {},
   "outputs": [],
   "source": [
    "from sklearn.metrics import roc_curve\n",
    "\n",
    "def plot_roc(y_scores, threshold=0, label=None, style='b-'):\n",
    "    \"\"\"plot the ROC curve\"\"\"\n",
    "    \n",
    "    fpr, tpr, thresholds = roc_curve(y_train, y_scores)\n",
    "    \n",
    "    # plot the ROC curve\n",
    "    plt.plot(fpr, tpr, style, label=label)\n",
    "    \n",
    "    # false positive rate: false positives / true negatives + false positives\n",
    "    # true positive rate (recall): true positives / (true positives + false negatives)\n",
    "    # highlight the threshold\n",
    "    y_pred = y_scores > threshold\n",
    "    hl_fp = np.sum(np.logical_and(y_pred == True, y_train == 0))\n",
    "    hl_tp = np.sum(np.logical_and(y_pred == True, y_train == 1))\n",
    "    hl_fpr = hl_fp / np.sum(y_train == 0)\n",
    "    hl_tpr = hl_tp / np.sum(y_train == 1)\n",
    "    \n",
    "    plt.plot([0, hl_fpr], [hl_tpr, hl_tpr], 'r:')\n",
    "    plt.plot([hl_fpr, hl_fpr], [0, hl_tpr], 'r:')\n",
    "    plt.plot([hl_fpr], [hl_tpr], 'ro')"
   ]
  },
  {
   "cell_type": "code",
   "execution_count": 29,
   "metadata": {},
   "outputs": [
    {
     "data": {
      "image/png": "[encoded data removed]",
      "text/plain": [
       "<Figure size 800x500 with 1 Axes>"
      ]
     },
     "metadata": {},
     "output_type": "display_data"
    }
   ],
   "source": [
    "# plot ROC curve for each model\n",
    "mpl.style.use('default')\n",
    "plt.figure(figsize=(8, 5))\n",
    "\n",
    "# ROC for purely random classifier\n",
    "plt.plot([0, 1], [0, 1], 'k--')\n",
    "\n",
    "for clf_name, y_score in y_scores.items():\n",
    "    plot_roc(y_score, threshold=clf_thresholds[clf_name], label=clf_name, style=styles[clf_name])\n",
    "    \n",
    "plt.grid(True)\n",
    "plt.xlabel('False Positive Rate')\n",
    "plt.ylabel('True Positive Rate (Recall)')\n",
    "plt.legend(loc='lower right')\n",
    "plt.show()"
   ]
  },
  {
   "cell_type": "code",
   "execution_count": 30,
   "metadata": {},
   "outputs": [
    {
     "name": "stdout",
     "output_type": "stream",
     "text": [
      "ROC AUC scores:\n",
      "- Decision Tree: 0.9356198796722991\n",
      "- Random Forest: 0.9985919098822325\n",
      "- AdaBoost: 0.9921402969790067\n",
      "- KNN: 0.977264144905274\n",
      "- SVM: 0.98636472734255\n",
      "- MLP: 0.9965149769585253\n"
     ]
    }
   ],
   "source": [
    "# calculate all ROC AUCs\n",
    "from sklearn.metrics import roc_auc_score\n",
    "\n",
    "print(\"ROC AUC scores:\")\n",
    "for clf_name, y_score in y_scores.items():\n",
    "    roc_auc = roc_auc_score(y_train, y_score)\n",
    "    print(f\"- {clf_name}: {roc_auc}\")"
   ]
  },
  {
   "cell_type": "markdown",
   "metadata": {},
   "source": [
    "## Best classifiers to fine-tune:\n",
    "- MLP\n",
    "- AdaBoost\n",
    "- Random Forest"
   ]
  },
  {
   "cell_type": "markdown",
   "metadata": {},
   "source": [
    "# Fine-tune the Best Classifiers"
   ]
  },
  {
   "cell_type": "markdown",
   "metadata": {},
   "source": [
    "## To fine-tune each model:\n",
    "- Use Grid Search or Random Search depending on the model type and use 5-fold CV\n",
    "- Save each model to a file\n",
    "- Evaluate the model on the test set"
   ]
  },
  {
   "cell_type": "code",
   "execution_count": 31,
   "metadata": {},
   "outputs": [
    {
     "name": "stdout",
     "output_type": "stream",
     "text": [
      "Fitting 5 folds for each of 9 candidates, totalling 45 fits\n"
     ]
    },
    {
     "data": {
      "text/html": [
       "<style>#sk-container-id-1 {color: black;background-color: white;}#sk-container-id-1 pre{padding: 0;}#sk-container-id-1 div.sk-toggleable {background-color: white;}#sk-container-id-1 label.sk-toggleable__label {cursor: pointer;display: block;width: 100%;margin-bottom: 0;padding: 0.3em;box-sizing: border-box;text-align: center;}#sk-container-id-1 label.sk-toggleable__label-arrow:before {content: \"▸\";float: left;margin-right: 0.25em;color: #696969;}#sk-container-id-1 label.sk-toggleable__label-arrow:hover:before {color: black;}#sk-container-id-1 div.sk-estimator:hover label.sk-toggleable__label-arrow:before {color: black;}#sk-container-id-1 div.sk-toggleable__content {max-height: 0;max-width: 0;overflow: hidden;text-align: left;background-color: #f0f8ff;}#sk-container-id-1 div.sk-toggleable__content pre {margin: 0.2em;color: black;border-radius: 0.25em;background-color: #f0f8ff;}#sk-container-id-1 input.sk-toggleable__control:checked~div.sk-toggleable__content {max-height: 200px;max-width: 100%;overflow: auto;}#sk-container-id-1 input.sk-toggleable__control:checked~label.sk-toggleable__label-arrow:before {content: \"▾\";}#sk-container-id-1 div.sk-estimator input.sk-toggleable__control:checked~label.sk-toggleable__label {background-color: #d4ebff;}#sk-container-id-1 div.sk-label input.sk-toggleable__control:checked~label.sk-toggleable__label {background-color: #d4ebff;}#sk-container-id-1 input.sk-hidden--visually {border: 0;clip: rect(1px 1px 1px 1px);clip: rect(1px, 1px, 1px, 1px);height: 1px;margin: -1px;overflow: hidden;padding: 0;position: absolute;width: 1px;}#sk-container-id-1 div.sk-estimator {font-family: monospace;background-color: #f0f8ff;border: 1px dotted black;border-radius: 0.25em;box-sizing: border-box;margin-bottom: 0.5em;}#sk-container-id-1 div.sk-estimator:hover {background-color: #d4ebff;}#sk-container-id-1 div.sk-parallel-item::after {content: \"\";width: 100%;border-bottom: 1px solid gray;flex-grow: 1;}#sk-container-id-1 div.sk-label:hover label.sk-toggleable__label {background-color: #d4ebff;}#sk-container-id-1 div.sk-serial::before {content: \"\";position: absolute;border-left: 1px solid gray;box-sizing: border-box;top: 0;bottom: 0;left: 50%;z-index: 0;}#sk-container-id-1 div.sk-serial {display: flex;flex-direction: column;align-items: center;background-color: white;padding-right: 0.2em;padding-left: 0.2em;position: relative;}#sk-container-id-1 div.sk-item {position: relative;z-index: 1;}#sk-container-id-1 div.sk-parallel {display: flex;align-items: stretch;justify-content: center;background-color: white;position: relative;}#sk-container-id-1 div.sk-item::before, #sk-container-id-1 div.sk-parallel-item::before {content: \"\";position: absolute;border-left: 1px solid gray;box-sizing: border-box;top: 0;bottom: 0;left: 50%;z-index: -1;}#sk-container-id-1 div.sk-parallel-item {display: flex;flex-direction: column;z-index: 1;position: relative;background-color: white;}#sk-container-id-1 div.sk-parallel-item:first-child::after {align-self: flex-end;width: 50%;}#sk-container-id-1 div.sk-parallel-item:last-child::after {align-self: flex-start;width: 50%;}#sk-container-id-1 div.sk-parallel-item:only-child::after {width: 0;}#sk-container-id-1 div.sk-dashed-wrapped {border: 1px dashed gray;margin: 0 0.4em 0.5em 0.4em;box-sizing: border-box;padding-bottom: 0.4em;background-color: white;}#sk-container-id-1 div.sk-label label {font-family: monospace;font-weight: bold;display: inline-block;line-height: 1.2em;}#sk-container-id-1 div.sk-label-container {text-align: center;}#sk-container-id-1 div.sk-container {/* jupyter's `normalize.less` sets `[hidden] { display: none; }` but bootstrap.min.css set `[hidden] { display: none !important; }` so we also need the `!important` here to be able to override the default hidden behavior on the sphinx rendered scikit-learn.org. See: https://github.com/scikit-learn/scikit-learn/issues/21755 */display: inline-block !important;position: relative;}#sk-container-id-1 div.sk-text-repr-fallback {display: none;}</style><div id=\"sk-container-id-1\" class=\"sk-top-container\"><div class=\"sk-text-repr-fallback\"><pre>GridSearchCV(cv=5, estimator=MLPClassifier(),\n",
       "             param_grid={&#x27;activation&#x27;: [&#x27;relu&#x27;, &#x27;tanh&#x27;, &#x27;logistic&#x27;],\n",
       "                         &#x27;hidden_layer_sizes&#x27;: [(16,), (16, 16), (32,)]},\n",
       "             scoring=&#x27;f1&#x27;, verbose=1)</pre><b>In a Jupyter environment, please rerun this cell to show the HTML representation or trust the notebook. <br />On GitHub, the HTML representation is unable to render, please try loading this page with nbviewer.org.</b></div><div class=\"sk-container\" hidden><div class=\"sk-item sk-dashed-wrapped\"><div class=\"sk-label-container\"><div class=\"sk-label sk-toggleable\"><input class=\"sk-toggleable__control sk-hidden--visually\" id=\"sk-estimator-id-1\" type=\"checkbox\" ><label for=\"sk-estimator-id-1\" class=\"sk-toggleable__label sk-toggleable__label-arrow\">GridSearchCV</label><div class=\"sk-toggleable__content\"><pre>GridSearchCV(cv=5, estimator=MLPClassifier(),\n",
       "             param_grid={&#x27;activation&#x27;: [&#x27;relu&#x27;, &#x27;tanh&#x27;, &#x27;logistic&#x27;],\n",
       "                         &#x27;hidden_layer_sizes&#x27;: [(16,), (16, 16), (32,)]},\n",
       "             scoring=&#x27;f1&#x27;, verbose=1)</pre></div></div></div><div class=\"sk-parallel\"><div class=\"sk-parallel-item\"><div class=\"sk-item\"><div class=\"sk-label-container\"><div class=\"sk-label sk-toggleable\"><input class=\"sk-toggleable__control sk-hidden--visually\" id=\"sk-estimator-id-2\" type=\"checkbox\" ><label for=\"sk-estimator-id-2\" class=\"sk-toggleable__label sk-toggleable__label-arrow\">estimator: MLPClassifier</label><div class=\"sk-toggleable__content\"><pre>MLPClassifier()</pre></div></div></div><div class=\"sk-serial\"><div class=\"sk-item\"><div class=\"sk-estimator sk-toggleable\"><input class=\"sk-toggleable__control sk-hidden--visually\" id=\"sk-estimator-id-3\" type=\"checkbox\" ><label for=\"sk-estimator-id-3\" class=\"sk-toggleable__label sk-toggleable__label-arrow\">MLPClassifier</label><div class=\"sk-toggleable__content\"><pre>MLPClassifier()</pre></div></div></div></div></div></div></div></div></div></div>"
      ],
      "text/plain": [
       "GridSearchCV(cv=5, estimator=MLPClassifier(),\n",
       "             param_grid={'activation': ['relu', 'tanh', 'logistic'],\n",
       "                         'hidden_layer_sizes': [(16,), (16, 16), (32,)]},\n",
       "             scoring='f1', verbose=1)"
      ]
     },
     "execution_count": 31,
     "metadata": {},
     "output_type": "execute_result"
    }
   ],
   "source": [
    "from sklearn.model_selection import GridSearchCV\n",
    "\n",
    "# fine-tune MLP classifier\n",
    "mlp_best = MLPClassifier()\n",
    "mlp_param_grid = {\n",
    "    'hidden_layer_sizes': [(16,), (16, 16), (32,)],\n",
    "    'activation': ['relu', 'tanh', 'logistic']\n",
    "}\n",
    "\n",
    "mlp_grid_search = GridSearchCV(mlp_best, mlp_param_grid, scoring='f1', cv=5, verbose=1)\n",
    "mlp_grid_search.fit(X_train_prepared, y_train)"
   ]
  },
  {
   "cell_type": "code",
   "execution_count": 32,
   "metadata": {},
   "outputs": [
    {
     "name": "stdout",
     "output_type": "stream",
     "text": [
      "Fitting 5 folds for each of 4 candidates, totalling 20 fits\n",
      "[CV] END ....................................n_estimators=10; total time=   1.5s\n",
      "[CV] END ....................................n_estimators=10; total time=   1.3s\n",
      "[CV] END ....................................n_estimators=10; total time=   1.3s\n",
      "[CV] END ....................................n_estimators=10; total time=   1.3s\n",
      "[CV] END ....................................n_estimators=10; total time=   1.3s\n",
      "[CV] END ....................................n_estimators=30; total time=   4.1s\n",
      "[CV] END ....................................n_estimators=30; total time=   4.0s\n",
      "[CV] END ....................................n_estimators=30; total time=   4.0s\n",
      "[CV] END ....................................n_estimators=30; total time=   4.0s\n",
      "[CV] END ....................................n_estimators=30; total time=   4.1s\n",
      "[CV] END ....................................n_estimators=50; total time=   6.8s\n",
      "[CV] END ....................................n_estimators=50; total time=   6.7s\n",
      "[CV] END ....................................n_estimators=50; total time=   6.8s\n",
      "[CV] END ....................................n_estimators=50; total time=   6.7s\n",
      "[CV] END ....................................n_estimators=50; total time=   6.8s\n",
      "[CV] END ...................................n_estimators=100; total time=  13.7s\n",
      "[CV] END ...................................n_estimators=100; total time=  13.4s\n",
      "[CV] END ...................................n_estimators=100; total time=  13.6s\n",
      "[CV] END ...................................n_estimators=100; total time=  13.6s\n",
      "[CV] END ...................................n_estimators=100; total time=  13.8s\n"
     ]
    },
    {
     "data": {
      "text/html": [
       "<style>#sk-container-id-2 {color: black;background-color: white;}#sk-container-id-2 pre{padding: 0;}#sk-container-id-2 div.sk-toggleable {background-color: white;}#sk-container-id-2 label.sk-toggleable__label {cursor: pointer;display: block;width: 100%;margin-bottom: 0;padding: 0.3em;box-sizing: border-box;text-align: center;}#sk-container-id-2 label.sk-toggleable__label-arrow:before {content: \"▸\";float: left;margin-right: 0.25em;color: #696969;}#sk-container-id-2 label.sk-toggleable__label-arrow:hover:before {color: black;}#sk-container-id-2 div.sk-estimator:hover label.sk-toggleable__label-arrow:before {color: black;}#sk-container-id-2 div.sk-toggleable__content {max-height: 0;max-width: 0;overflow: hidden;text-align: left;background-color: #f0f8ff;}#sk-container-id-2 div.sk-toggleable__content pre {margin: 0.2em;color: black;border-radius: 0.25em;background-color: #f0f8ff;}#sk-container-id-2 input.sk-toggleable__control:checked~div.sk-toggleable__content {max-height: 200px;max-width: 100%;overflow: auto;}#sk-container-id-2 input.sk-toggleable__control:checked~label.sk-toggleable__label-arrow:before {content: \"▾\";}#sk-container-id-2 div.sk-estimator input.sk-toggleable__control:checked~label.sk-toggleable__label {background-color: #d4ebff;}#sk-container-id-2 div.sk-label input.sk-toggleable__control:checked~label.sk-toggleable__label {background-color: #d4ebff;}#sk-container-id-2 input.sk-hidden--visually {border: 0;clip: rect(1px 1px 1px 1px);clip: rect(1px, 1px, 1px, 1px);height: 1px;margin: -1px;overflow: hidden;padding: 0;position: absolute;width: 1px;}#sk-container-id-2 div.sk-estimator {font-family: monospace;background-color: #f0f8ff;border: 1px dotted black;border-radius: 0.25em;box-sizing: border-box;margin-bottom: 0.5em;}#sk-container-id-2 div.sk-estimator:hover {background-color: #d4ebff;}#sk-container-id-2 div.sk-parallel-item::after {content: \"\";width: 100%;border-bottom: 1px solid gray;flex-grow: 1;}#sk-container-id-2 div.sk-label:hover label.sk-toggleable__label {background-color: #d4ebff;}#sk-container-id-2 div.sk-serial::before {content: \"\";position: absolute;border-left: 1px solid gray;box-sizing: border-box;top: 0;bottom: 0;left: 50%;z-index: 0;}#sk-container-id-2 div.sk-serial {display: flex;flex-direction: column;align-items: center;background-color: white;padding-right: 0.2em;padding-left: 0.2em;position: relative;}#sk-container-id-2 div.sk-item {position: relative;z-index: 1;}#sk-container-id-2 div.sk-parallel {display: flex;align-items: stretch;justify-content: center;background-color: white;position: relative;}#sk-container-id-2 div.sk-item::before, #sk-container-id-2 div.sk-parallel-item::before {content: \"\";position: absolute;border-left: 1px solid gray;box-sizing: border-box;top: 0;bottom: 0;left: 50%;z-index: -1;}#sk-container-id-2 div.sk-parallel-item {display: flex;flex-direction: column;z-index: 1;position: relative;background-color: white;}#sk-container-id-2 div.sk-parallel-item:first-child::after {align-self: flex-end;width: 50%;}#sk-container-id-2 div.sk-parallel-item:last-child::after {align-self: flex-start;width: 50%;}#sk-container-id-2 div.sk-parallel-item:only-child::after {width: 0;}#sk-container-id-2 div.sk-dashed-wrapped {border: 1px dashed gray;margin: 0 0.4em 0.5em 0.4em;box-sizing: border-box;padding-bottom: 0.4em;background-color: white;}#sk-container-id-2 div.sk-label label {font-family: monospace;font-weight: bold;display: inline-block;line-height: 1.2em;}#sk-container-id-2 div.sk-label-container {text-align: center;}#sk-container-id-2 div.sk-container {/* jupyter's `normalize.less` sets `[hidden] { display: none; }` but bootstrap.min.css set `[hidden] { display: none !important; }` so we also need the `!important` here to be able to override the default hidden behavior on the sphinx rendered scikit-learn.org. See: https://github.com/scikit-learn/scikit-learn/issues/21755 */display: inline-block !important;position: relative;}#sk-container-id-2 div.sk-text-repr-fallback {display: none;}</style><div id=\"sk-container-id-2\" class=\"sk-top-container\"><div class=\"sk-text-repr-fallback\"><pre>GridSearchCV(cv=5, estimator=AdaBoostClassifier(),\n",
       "             param_grid={&#x27;n_estimators&#x27;: [10, 30, 50, 100]}, scoring=&#x27;f1&#x27;,\n",
       "             verbose=2)</pre><b>In a Jupyter environment, please rerun this cell to show the HTML representation or trust the notebook. <br />On GitHub, the HTML representation is unable to render, please try loading this page with nbviewer.org.</b></div><div class=\"sk-container\" hidden><div class=\"sk-item sk-dashed-wrapped\"><div class=\"sk-label-container\"><div class=\"sk-label sk-toggleable\"><input class=\"sk-toggleable__control sk-hidden--visually\" id=\"sk-estimator-id-4\" type=\"checkbox\" ><label for=\"sk-estimator-id-4\" class=\"sk-toggleable__label sk-toggleable__label-arrow\">GridSearchCV</label><div class=\"sk-toggleable__content\"><pre>GridSearchCV(cv=5, estimator=AdaBoostClassifier(),\n",
       "             param_grid={&#x27;n_estimators&#x27;: [10, 30, 50, 100]}, scoring=&#x27;f1&#x27;,\n",
       "             verbose=2)</pre></div></div></div><div class=\"sk-parallel\"><div class=\"sk-parallel-item\"><div class=\"sk-item\"><div class=\"sk-label-container\"><div class=\"sk-label sk-toggleable\"><input class=\"sk-toggleable__control sk-hidden--visually\" id=\"sk-estimator-id-5\" type=\"checkbox\" ><label for=\"sk-estimator-id-5\" class=\"sk-toggleable__label sk-toggleable__label-arrow\">estimator: AdaBoostClassifier</label><div class=\"sk-toggleable__content\"><pre>AdaBoostClassifier()</pre></div></div></div><div class=\"sk-serial\"><div class=\"sk-item\"><div class=\"sk-estimator sk-toggleable\"><input class=\"sk-toggleable__control sk-hidden--visually\" id=\"sk-estimator-id-6\" type=\"checkbox\" ><label for=\"sk-estimator-id-6\" class=\"sk-toggleable__label sk-toggleable__label-arrow\">AdaBoostClassifier</label><div class=\"sk-toggleable__content\"><pre>AdaBoostClassifier()</pre></div></div></div></div></div></div></div></div></div></div>"
      ],
      "text/plain": [
       "GridSearchCV(cv=5, estimator=AdaBoostClassifier(),\n",
       "             param_grid={'n_estimators': [10, 30, 50, 100]}, scoring='f1',\n",
       "             verbose=2)"
      ]
     },
     "execution_count": 32,
     "metadata": {},
     "output_type": "execute_result"
    }
   ],
   "source": [
    "# fine-tune AdaBoost classifier\n",
    "adaboost_best = AdaBoostClassifier()\n",
    "adaboost_param_grid = {\n",
    "    'n_estimators': [10, 30, 50, 100]\n",
    "}\n",
    "\n",
    "adaboost_grid_search = GridSearchCV(adaboost_best, adaboost_param_grid, scoring='f1', cv=5, verbose=2)\n",
    "adaboost_grid_search.fit(X_train_prepared, y_train)"
   ]
  },
  {
   "cell_type": "code",
   "execution_count": 34,
   "metadata": {},
   "outputs": [
    {
     "name": "stdout",
     "output_type": "stream",
     "text": [
      "Fitting 5 folds for each of 27 candidates, totalling 135 fits\n",
      "[CV] END .....max_depth=2, max_features=0.2, n_estimators=20; total time=   0.9s\n",
      "[CV] END .....max_depth=2, max_features=0.2, n_estimators=20; total time=   0.8s\n",
      "[CV] END .....max_depth=2, max_features=0.2, n_estimators=20; total time=   0.8s\n",
      "[CV] END .....max_depth=2, max_features=0.2, n_estimators=20; total time=   0.8s\n",
      "[CV] END .....max_depth=2, max_features=0.2, n_estimators=20; total time=   0.8s\n",
      "[CV] END .....max_depth=2, max_features=0.2, n_estimators=50; total time=   2.1s\n",
      "[CV] END .....max_depth=2, max_features=0.2, n_estimators=50; total time=   2.3s\n",
      "[CV] END .....max_depth=2, max_features=0.2, n_estimators=50; total time=   3.1s\n",
      "[CV] END .....max_depth=2, max_features=0.2, n_estimators=50; total time=   3.1s\n",
      "[CV] END .....max_depth=2, max_features=0.2, n_estimators=50; total time=   3.2s\n",
      "[CV] END ....max_depth=2, max_features=0.2, n_estimators=100; total time=   6.3s\n",
      "[CV] END ....max_depth=2, max_features=0.2, n_estimators=100; total time=   6.3s\n",
      "[CV] END ....max_depth=2, max_features=0.2, n_estimators=100; total time=   6.1s\n",
      "[CV] END ....max_depth=2, max_features=0.2, n_estimators=100; total time=   6.2s\n",
      "[CV] END ....max_depth=2, max_features=0.2, n_estimators=100; total time=   6.2s\n",
      "[CV] END .....max_depth=2, max_features=0.6, n_estimators=20; total time=   3.1s\n",
      "[CV] END .....max_depth=2, max_features=0.6, n_estimators=20; total time=   3.1s\n",
      "[CV] END .....max_depth=2, max_features=0.6, n_estimators=20; total time=   3.1s\n",
      "[CV] END .....max_depth=2, max_features=0.6, n_estimators=20; total time=   3.1s\n",
      "[CV] END .....max_depth=2, max_features=0.6, n_estimators=20; total time=   3.1s\n",
      "[CV] END .....max_depth=2, max_features=0.6, n_estimators=50; total time=   7.5s\n",
      "[CV] END .....max_depth=2, max_features=0.6, n_estimators=50; total time=   6.9s\n",
      "[CV] END .....max_depth=2, max_features=0.6, n_estimators=50; total time=   7.9s\n",
      "[CV] END .....max_depth=2, max_features=0.6, n_estimators=50; total time=   7.2s\n",
      "[CV] END .....max_depth=2, max_features=0.6, n_estimators=50; total time=   6.8s\n",
      "[CV] END ....max_depth=2, max_features=0.6, n_estimators=100; total time=  13.2s\n",
      "[CV] END ....max_depth=2, max_features=0.6, n_estimators=100; total time=  10.5s\n",
      "[CV] END ....max_depth=2, max_features=0.6, n_estimators=100; total time=  10.5s\n",
      "[CV] END ....max_depth=2, max_features=0.6, n_estimators=100; total time=  10.9s\n",
      "[CV] END ....max_depth=2, max_features=0.6, n_estimators=100; total time=  10.7s\n",
      "[CV] END .....max_depth=2, max_features=1.0, n_estimators=20; total time=   2.2s\n",
      "[CV] END .....max_depth=2, max_features=1.0, n_estimators=20; total time=   2.2s\n",
      "[CV] END .....max_depth=2, max_features=1.0, n_estimators=20; total time=   2.2s\n",
      "[CV] END .....max_depth=2, max_features=1.0, n_estimators=20; total time=   2.5s\n",
      "[CV] END .....max_depth=2, max_features=1.0, n_estimators=20; total time=   2.5s\n",
      "[CV] END .....max_depth=2, max_features=1.0, n_estimators=50; total time=   7.1s\n",
      "[CV] END .....max_depth=2, max_features=1.0, n_estimators=50; total time=   7.1s\n",
      "[CV] END .....max_depth=2, max_features=1.0, n_estimators=50; total time=   7.2s\n",
      "[CV] END .....max_depth=2, max_features=1.0, n_estimators=50; total time=   5.9s\n",
      "[CV] END .....max_depth=2, max_features=1.0, n_estimators=50; total time=   5.9s\n",
      "[CV] END ....max_depth=2, max_features=1.0, n_estimators=100; total time=  11.5s\n",
      "[CV] END ....max_depth=2, max_features=1.0, n_estimators=100; total time=  11.2s\n",
      "[CV] END ....max_depth=2, max_features=1.0, n_estimators=100; total time=  11.2s\n",
      "[CV] END ....max_depth=2, max_features=1.0, n_estimators=100; total time=  11.1s\n",
      "[CV] END ....max_depth=2, max_features=1.0, n_estimators=100; total time=  11.4s\n",
      "[CV] END .....max_depth=6, max_features=0.2, n_estimators=20; total time=   2.0s\n",
      "[CV] END .....max_depth=6, max_features=0.2, n_estimators=20; total time=   2.0s\n",
      "[CV] END .....max_depth=6, max_features=0.2, n_estimators=20; total time=   2.0s\n",
      "[CV] END .....max_depth=6, max_features=0.2, n_estimators=20; total time=   1.9s\n",
      "[CV] END .....max_depth=6, max_features=0.2, n_estimators=20; total time=   2.1s\n",
      "[CV] END .....max_depth=6, max_features=0.2, n_estimators=50; total time=   5.6s\n",
      "[CV] END .....max_depth=6, max_features=0.2, n_estimators=50; total time=   5.4s\n",
      "[CV] END .....max_depth=6, max_features=0.2, n_estimators=50; total time=   5.6s\n",
      "[CV] END .....max_depth=6, max_features=0.2, n_estimators=50; total time=   5.7s\n",
      "[CV] END .....max_depth=6, max_features=0.2, n_estimators=50; total time=   5.1s\n",
      "[CV] END ....max_depth=6, max_features=0.2, n_estimators=100; total time=  10.3s\n",
      "[CV] END ....max_depth=6, max_features=0.2, n_estimators=100; total time=   9.9s\n",
      "[CV] END ....max_depth=6, max_features=0.2, n_estimators=100; total time=  10.2s\n",
      "[CV] END ....max_depth=6, max_features=0.2, n_estimators=100; total time=  10.1s\n",
      "[CV] END ....max_depth=6, max_features=0.2, n_estimators=100; total time=  10.2s\n",
      "[CV] END .....max_depth=6, max_features=0.6, n_estimators=20; total time=   4.5s\n",
      "[CV] END .....max_depth=6, max_features=0.6, n_estimators=20; total time=   5.4s\n",
      "[CV] END .....max_depth=6, max_features=0.6, n_estimators=20; total time=   5.3s\n",
      "[CV] END .....max_depth=6, max_features=0.6, n_estimators=20; total time=   5.4s\n",
      "[CV] END .....max_depth=6, max_features=0.6, n_estimators=20; total time=   6.4s\n",
      "[CV] END .....max_depth=6, max_features=0.6, n_estimators=50; total time=  13.8s\n",
      "[CV] END .....max_depth=6, max_features=0.6, n_estimators=50; total time=  10.7s\n",
      "[CV] END .....max_depth=6, max_features=0.6, n_estimators=50; total time=  10.9s\n",
      "[CV] END .....max_depth=6, max_features=0.6, n_estimators=50; total time=  11.0s\n",
      "[CV] END .....max_depth=6, max_features=0.6, n_estimators=50; total time=  11.3s\n",
      "[CV] END ....max_depth=6, max_features=0.6, n_estimators=100; total time=  22.3s\n",
      "[CV] END ....max_depth=6, max_features=0.6, n_estimators=100; total time=  21.7s\n",
      "[CV] END ....max_depth=6, max_features=0.6, n_estimators=100; total time=  21.7s\n",
      "[CV] END ....max_depth=6, max_features=0.6, n_estimators=100; total time=  22.1s\n",
      "[CV] END ....max_depth=6, max_features=0.6, n_estimators=100; total time=  33.0s\n",
      "[CV] END .....max_depth=6, max_features=1.0, n_estimators=20; total time=   4.1s\n",
      "[CV] END .....max_depth=6, max_features=1.0, n_estimators=20; total time=   3.7s\n",
      "[CV] END .....max_depth=6, max_features=1.0, n_estimators=20; total time=   3.8s\n",
      "[CV] END .....max_depth=6, max_features=1.0, n_estimators=20; total time=   3.7s\n",
      "[CV] END .....max_depth=6, max_features=1.0, n_estimators=20; total time=   3.8s\n",
      "[CV] END .....max_depth=6, max_features=1.0, n_estimators=50; total time=   9.4s\n",
      "[CV] END .....max_depth=6, max_features=1.0, n_estimators=50; total time=   9.4s\n",
      "[CV] END .....max_depth=6, max_features=1.0, n_estimators=50; total time=   9.4s\n",
      "[CV] END .....max_depth=6, max_features=1.0, n_estimators=50; total time=   9.4s\n",
      "[CV] END .....max_depth=6, max_features=1.0, n_estimators=50; total time=   9.6s\n",
      "[CV] END ....max_depth=6, max_features=1.0, n_estimators=100; total time=  24.0s\n",
      "[CV] END ....max_depth=6, max_features=1.0, n_estimators=100; total time=  23.0s\n",
      "[CV] END ....max_depth=6, max_features=1.0, n_estimators=100; total time=  19.1s\n",
      "[CV] END ....max_depth=6, max_features=1.0, n_estimators=100; total time=  19.1s\n",
      "[CV] END ....max_depth=6, max_features=1.0, n_estimators=100; total time=  24.9s\n",
      "[CV] END .....max_depth=8, max_features=0.2, n_estimators=20; total time=   3.3s\n",
      "[CV] END .....max_depth=8, max_features=0.2, n_estimators=20; total time=   3.6s\n",
      "[CV] END .....max_depth=8, max_features=0.2, n_estimators=20; total time=   3.4s\n",
      "[CV] END .....max_depth=8, max_features=0.2, n_estimators=20; total time=   3.0s\n",
      "[CV] END .....max_depth=8, max_features=0.2, n_estimators=20; total time=   2.5s\n",
      "[CV] END .....max_depth=8, max_features=0.2, n_estimators=50; total time=   6.4s\n",
      "[CV] END .....max_depth=8, max_features=0.2, n_estimators=50; total time=   6.4s\n",
      "[CV] END .....max_depth=8, max_features=0.2, n_estimators=50; total time=   6.6s\n",
      "[CV] END .....max_depth=8, max_features=0.2, n_estimators=50; total time=   6.5s\n",
      "[CV] END .....max_depth=8, max_features=0.2, n_estimators=50; total time=   6.6s\n",
      "[CV] END ....max_depth=8, max_features=0.2, n_estimators=100; total time=  12.9s\n",
      "[CV] END ....max_depth=8, max_features=0.2, n_estimators=100; total time=  12.4s\n",
      "[CV] END ....max_depth=8, max_features=0.2, n_estimators=100; total time=  12.3s\n",
      "[CV] END ....max_depth=8, max_features=0.2, n_estimators=100; total time=  12.2s\n",
      "[CV] END ....max_depth=8, max_features=0.2, n_estimators=100; total time=  12.4s\n",
      "[CV] END .....max_depth=8, max_features=0.6, n_estimators=20; total time=   5.0s\n",
      "[CV] END .....max_depth=8, max_features=0.6, n_estimators=20; total time=   4.9s\n",
      "[CV] END .....max_depth=8, max_features=0.6, n_estimators=20; total time=   5.0s\n",
      "[CV] END .....max_depth=8, max_features=0.6, n_estimators=20; total time=   5.1s\n",
      "[CV] END .....max_depth=8, max_features=0.6, n_estimators=20; total time=   5.1s\n",
      "[CV] END .....max_depth=8, max_features=0.6, n_estimators=50; total time=  12.7s\n",
      "[CV] END .....max_depth=8, max_features=0.6, n_estimators=50; total time=  14.0s\n",
      "[CV] END .....max_depth=8, max_features=0.6, n_estimators=50; total time=  12.6s\n",
      "[CV] END .....max_depth=8, max_features=0.6, n_estimators=50; total time=  12.5s\n",
      "[CV] END .....max_depth=8, max_features=0.6, n_estimators=50; total time=  12.6s\n",
      "[CV] END ....max_depth=8, max_features=0.6, n_estimators=100; total time=  25.2s\n",
      "[CV] END ....max_depth=8, max_features=0.6, n_estimators=100; total time=  26.1s\n",
      "[CV] END ....max_depth=8, max_features=0.6, n_estimators=100; total time=  26.0s\n",
      "[CV] END ....max_depth=8, max_features=0.6, n_estimators=100; total time=  25.0s\n",
      "[CV] END ....max_depth=8, max_features=0.6, n_estimators=100; total time=  25.4s\n",
      "[CV] END .....max_depth=8, max_features=1.0, n_estimators=20; total time=   4.4s\n",
      "[CV] END .....max_depth=8, max_features=1.0, n_estimators=20; total time=   4.4s\n",
      "[CV] END .....max_depth=8, max_features=1.0, n_estimators=20; total time=   4.4s\n",
      "[CV] END .....max_depth=8, max_features=1.0, n_estimators=20; total time=   4.3s\n",
      "[CV] END .....max_depth=8, max_features=1.0, n_estimators=20; total time=   4.4s\n",
      "[CV] END .....max_depth=8, max_features=1.0, n_estimators=50; total time=  11.1s\n",
      "[CV] END .....max_depth=8, max_features=1.0, n_estimators=50; total time=  11.3s\n",
      "[CV] END .....max_depth=8, max_features=1.0, n_estimators=50; total time=  12.2s\n",
      "[CV] END .....max_depth=8, max_features=1.0, n_estimators=50; total time=  13.5s\n",
      "[CV] END .....max_depth=8, max_features=1.0, n_estimators=50; total time=  16.2s\n",
      "[CV] END ....max_depth=8, max_features=1.0, n_estimators=100; total time=  26.0s\n",
      "[CV] END ....max_depth=8, max_features=1.0, n_estimators=100; total time=  27.2s\n",
      "[CV] END ....max_depth=8, max_features=1.0, n_estimators=100; total time=  35.5s\n",
      "[CV] END ....max_depth=8, max_features=1.0, n_estimators=100; total time=  29.1s\n",
      "[CV] END ....max_depth=8, max_features=1.0, n_estimators=100; total time=  22.8s\n"
     ]
    },
    {
     "data": {
      "text/html": [
       "<style>#sk-container-id-3 {color: black;background-color: white;}#sk-container-id-3 pre{padding: 0;}#sk-container-id-3 div.sk-toggleable {background-color: white;}#sk-container-id-3 label.sk-toggleable__label {cursor: pointer;display: block;width: 100%;margin-bottom: 0;padding: 0.3em;box-sizing: border-box;text-align: center;}#sk-container-id-3 label.sk-toggleable__label-arrow:before {content: \"▸\";float: left;margin-right: 0.25em;color: #696969;}#sk-container-id-3 label.sk-toggleable__label-arrow:hover:before {color: black;}#sk-container-id-3 div.sk-estimator:hover label.sk-toggleable__label-arrow:before {color: black;}#sk-container-id-3 div.sk-toggleable__content {max-height: 0;max-width: 0;overflow: hidden;text-align: left;background-color: #f0f8ff;}#sk-container-id-3 div.sk-toggleable__content pre {margin: 0.2em;color: black;border-radius: 0.25em;background-color: #f0f8ff;}#sk-container-id-3 input.sk-toggleable__control:checked~div.sk-toggleable__content {max-height: 200px;max-width: 100%;overflow: auto;}#sk-container-id-3 input.sk-toggleable__control:checked~label.sk-toggleable__label-arrow:before {content: \"▾\";}#sk-container-id-3 div.sk-estimator input.sk-toggleable__control:checked~label.sk-toggleable__label {background-color: #d4ebff;}#sk-container-id-3 div.sk-label input.sk-toggleable__control:checked~label.sk-toggleable__label {background-color: #d4ebff;}#sk-container-id-3 input.sk-hidden--visually {border: 0;clip: rect(1px 1px 1px 1px);clip: rect(1px, 1px, 1px, 1px);height: 1px;margin: -1px;overflow: hidden;padding: 0;position: absolute;width: 1px;}#sk-container-id-3 div.sk-estimator {font-family: monospace;background-color: #f0f8ff;border: 1px dotted black;border-radius: 0.25em;box-sizing: border-box;margin-bottom: 0.5em;}#sk-container-id-3 div.sk-estimator:hover {background-color: #d4ebff;}#sk-container-id-3 div.sk-parallel-item::after {content: \"\";width: 100%;border-bottom: 1px solid gray;flex-grow: 1;}#sk-container-id-3 div.sk-label:hover label.sk-toggleable__label {background-color: #d4ebff;}#sk-container-id-3 div.sk-serial::before {content: \"\";position: absolute;border-left: 1px solid gray;box-sizing: border-box;top: 0;bottom: 0;left: 50%;z-index: 0;}#sk-container-id-3 div.sk-serial {display: flex;flex-direction: column;align-items: center;background-color: white;padding-right: 0.2em;padding-left: 0.2em;position: relative;}#sk-container-id-3 div.sk-item {position: relative;z-index: 1;}#sk-container-id-3 div.sk-parallel {display: flex;align-items: stretch;justify-content: center;background-color: white;position: relative;}#sk-container-id-3 div.sk-item::before, #sk-container-id-3 div.sk-parallel-item::before {content: \"\";position: absolute;border-left: 1px solid gray;box-sizing: border-box;top: 0;bottom: 0;left: 50%;z-index: -1;}#sk-container-id-3 div.sk-parallel-item {display: flex;flex-direction: column;z-index: 1;position: relative;background-color: white;}#sk-container-id-3 div.sk-parallel-item:first-child::after {align-self: flex-end;width: 50%;}#sk-container-id-3 div.sk-parallel-item:last-child::after {align-self: flex-start;width: 50%;}#sk-container-id-3 div.sk-parallel-item:only-child::after {width: 0;}#sk-container-id-3 div.sk-dashed-wrapped {border: 1px dashed gray;margin: 0 0.4em 0.5em 0.4em;box-sizing: border-box;padding-bottom: 0.4em;background-color: white;}#sk-container-id-3 div.sk-label label {font-family: monospace;font-weight: bold;display: inline-block;line-height: 1.2em;}#sk-container-id-3 div.sk-label-container {text-align: center;}#sk-container-id-3 div.sk-container {/* jupyter's `normalize.less` sets `[hidden] { display: none; }` but bootstrap.min.css set `[hidden] { display: none !important; }` so we also need the `!important` here to be able to override the default hidden behavior on the sphinx rendered scikit-learn.org. See: https://github.com/scikit-learn/scikit-learn/issues/21755 */display: inline-block !important;position: relative;}#sk-container-id-3 div.sk-text-repr-fallback {display: none;}</style><div id=\"sk-container-id-3\" class=\"sk-top-container\"><div class=\"sk-text-repr-fallback\"><pre>GridSearchCV(cv=5, estimator=RandomForestClassifier(),\n",
       "             param_grid={&#x27;max_depth&#x27;: [2, 6, 8],\n",
       "                         &#x27;max_features&#x27;: [0.2, 0.6, 1.0],\n",
       "                         &#x27;n_estimators&#x27;: [20, 50, 100]},\n",
       "             scoring=&#x27;f1&#x27;, verbose=2)</pre><b>In a Jupyter environment, please rerun this cell to show the HTML representation or trust the notebook. <br />On GitHub, the HTML representation is unable to render, please try loading this page with nbviewer.org.</b></div><div class=\"sk-container\" hidden><div class=\"sk-item sk-dashed-wrapped\"><div class=\"sk-label-container\"><div class=\"sk-label sk-toggleable\"><input class=\"sk-toggleable__control sk-hidden--visually\" id=\"sk-estimator-id-7\" type=\"checkbox\" ><label for=\"sk-estimator-id-7\" class=\"sk-toggleable__label sk-toggleable__label-arrow\">GridSearchCV</label><div class=\"sk-toggleable__content\"><pre>GridSearchCV(cv=5, estimator=RandomForestClassifier(),\n",
       "             param_grid={&#x27;max_depth&#x27;: [2, 6, 8],\n",
       "                         &#x27;max_features&#x27;: [0.2, 0.6, 1.0],\n",
       "                         &#x27;n_estimators&#x27;: [20, 50, 100]},\n",
       "             scoring=&#x27;f1&#x27;, verbose=2)</pre></div></div></div><div class=\"sk-parallel\"><div class=\"sk-parallel-item\"><div class=\"sk-item\"><div class=\"sk-label-container\"><div class=\"sk-label sk-toggleable\"><input class=\"sk-toggleable__control sk-hidden--visually\" id=\"sk-estimator-id-8\" type=\"checkbox\" ><label for=\"sk-estimator-id-8\" class=\"sk-toggleable__label sk-toggleable__label-arrow\">estimator: RandomForestClassifier</label><div class=\"sk-toggleable__content\"><pre>RandomForestClassifier()</pre></div></div></div><div class=\"sk-serial\"><div class=\"sk-item\"><div class=\"sk-estimator sk-toggleable\"><input class=\"sk-toggleable__control sk-hidden--visually\" id=\"sk-estimator-id-9\" type=\"checkbox\" ><label for=\"sk-estimator-id-9\" class=\"sk-toggleable__label sk-toggleable__label-arrow\">RandomForestClassifier</label><div class=\"sk-toggleable__content\"><pre>RandomForestClassifier()</pre></div></div></div></div></div></div></div></div></div></div>"
      ],
      "text/plain": [
       "GridSearchCV(cv=5, estimator=RandomForestClassifier(),\n",
       "             param_grid={'max_depth': [2, 6, 8],\n",
       "                         'max_features': [0.2, 0.6, 1.0],\n",
       "                         'n_estimators': [20, 50, 100]},\n",
       "             scoring='f1', verbose=2)"
      ]
     },
     "execution_count": 34,
     "metadata": {},
     "output_type": "execute_result"
    }
   ],
   "source": [
    "from sklearn.model_selection import GridSearchCV\n",
    "\n",
    "# fine-tune Random Forest classifier\n",
    "\n",
    "rand_f_best = RandomForestClassifier()\n",
    "rand_f_grid = {\n",
    "    'n_estimators': [20,50,100],\n",
    "    'max_features': [0.2,0.6,1.0],\n",
    "    'max_depth' : [2,6,8]\n",
    "}\n",
    "\n",
    "rand_f_grid_search = GridSearchCV(rand_f_best, rand_f_grid, scoring='f1', cv=5, verbose=2)\n",
    "rand_f_grid_search.fit(X_train_prepared, y_train)\n"
   ]
  },
  {
   "cell_type": "code",
   "execution_count": 35,
   "metadata": {},
   "outputs": [],
   "source": [
    "import joblib\n",
    "\n",
    "def save_model(model, filename):\n",
    "    # create directory if it doesn't exist\n",
    "    if not os.path.isdir(MODELS_DIR):\n",
    "        os.makedirs(MODELS_DIR)\n",
    "        \n",
    "    path = os.path.join(MODELS_DIR, filename)\n",
    "    joblib.dump(model, path)"
   ]
  },
  {
   "cell_type": "code",
   "execution_count": 36,
   "metadata": {},
   "outputs": [],
   "source": [
    "# get the best estimators\n",
    "mlp_best = mlp_grid_search.best_estimator_\n",
    "adaboost_best = adaboost_grid_search.best_estimator_\n",
    "rand_f_best = rand_f_grid_search.best_estimator_\n",
    "\n",
    "# save each model\n",
    "save_model(mlp_best, 'mlp_best.pkl')\n",
    "save_model(adaboost_best, 'adaboost_best.pkl')\n",
    "save_model(rand_f_best, 'rand_f_best.pkl')"
   ]
  },
  {
   "cell_type": "code",
   "execution_count": 37,
   "metadata": {},
   "outputs": [
    {
     "name": "stdout",
     "output_type": "stream",
     "text": [
      "MLP:\n",
      "[[1120    0]\n",
      " [   0 1116]]\n",
      "precision: 1.0\n",
      "recall: 1.0\n",
      "f1-score: 1.0\n",
      "accuracy: 1.0\n",
      "\n",
      "AdaBoost:\n",
      "[[1120    0]\n",
      " [   0 1116]]\n",
      "precision: 1.0\n",
      "recall: 1.0\n",
      "f1-score: 1.0\n",
      "accuracy: 1.0\n",
      "\n",
      "Random Forest:\n",
      "[[1112    8]\n",
      " [  27 1089]]\n",
      "precision: 0.9927073837739289\n",
      "recall: 0.9758064516129032\n",
      "f1-score: 0.9841843651152282\n",
      "accuracy: 0.9843470483005367\n",
      "\n"
     ]
    }
   ],
   "source": [
    "# evaluate each model on the training set\n",
    "best_clf = {\n",
    "    'MLP': mlp_best,\n",
    "    'AdaBoost': adaboost_best,\n",
    "    'Random Forest': rand_f_best\n",
    "}\n",
    "\n",
    "for clf_name, clf in best_clf.items():\n",
    "    y_pred = clf.predict(X_train_prepared)\n",
    "    conf = eval_confusion(y_pred, y_train)\n",
    "    print(f\"{clf_name}:\")\n",
    "    print(conf['matrix'])\n",
    "    print(f\"precision: {conf['precision']}\")\n",
    "    print(f\"recall: {conf['recall']}\")\n",
    "    print(f\"f1-score: {conf['f1']}\")\n",
    "    print(f\"accuracy: {accuracy_score(y_pred, y_train)}\")\n",
    "    print()"
   ]
  },
  {
   "cell_type": "code",
   "execution_count": 38,
   "metadata": {},
   "outputs": [
    {
     "name": "stdout",
     "output_type": "stream",
     "text": [
      "MLP:\n",
      "[[280   0]\n",
      " [  5 275]]\n",
      "precision: 1.0\n",
      "recall: 0.9821428571428571\n",
      "f1-score: 0.9909909909909909\n",
      "accuracy: 0.9910714285714286\n",
      "\n",
      "AdaBoost:\n",
      "[[275   5]\n",
      " [  8 272]]\n",
      "precision: 0.9819494584837545\n",
      "recall: 0.9714285714285714\n",
      "f1-score: 0.9766606822262119\n",
      "accuracy: 0.9767857142857143\n",
      "\n",
      "Random Forest:\n",
      "[[265  15]\n",
      " [  5 275]]\n",
      "precision: 0.9482758620689655\n",
      "recall: 0.9821428571428571\n",
      "f1-score: 0.9649122807017544\n",
      "accuracy: 0.9642857142857143\n",
      "\n"
     ]
    }
   ],
   "source": [
    "# prepare the test dataset\n",
    "X_test_prepared = prepare_pipeline.transform(X_test)\n",
    "\n",
    "# evaluate each model on the test set\n",
    "for clf_name, clf in best_clf.items():\n",
    "    y_pred = clf.predict(X_test_prepared)\n",
    "    conf = eval_confusion(y_pred, y_test)\n",
    "    print(f\"{clf_name}:\")\n",
    "    print(conf['matrix'])\n",
    "    print(f\"precision: {conf['precision']}\")\n",
    "    print(f\"recall: {conf['recall']}\")\n",
    "    print(f\"f1-score: {conf['f1']}\")\n",
    "    print(f\"accuracy: {accuracy_score(y_pred, y_test)}\")\n",
    "    print()\n",
    "    "
   ]
  },
  {
   "cell_type": "markdown",
   "metadata": {},
   "source": [
    "The best classifier is the MLP classifier with about:\n",
    "- 99.1% accuracy\n",
    "- 100% precision\n",
    "- 98.2% recall\n",
    "- 99.09% f1-score"
   ]
  }
 ],
 "metadata": {
  "interpreter": {
   "hash": "9f5475ab6801b18d62dd78561df7cad099807d3c18f11eefa2edcbf56bb9e19a"
  },
  "kernelspec": {
   "display_name": "Python 3.8.8 ('base')",
   "language": "python",
   "name": "python3"
  },
  "language_info": {
   "codemirror_mode": {
    "name": "ipython",
    "version": 3
   },
   "file_extension": ".py",
   "mimetype": "text/x-python",
   "name": "python",
   "nbconvert_exporter": "python",
   "pygments_lexer": "ipython3",
   "version": "3.8.8"
  }
 },
 "nbformat": 4,
 "nbformat_minor": 2
}
